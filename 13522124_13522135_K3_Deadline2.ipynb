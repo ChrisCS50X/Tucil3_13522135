{
  "metadata": {
    "kernelspec": {
      "display_name": "Python 3",
      "language": "python",
      "name": "python3"
    },
    "language_info": {
      "name": "python",
      "version": "3.10.12",
      "mimetype": "text/x-python",
      "codemirror_mode": {
        "name": "ipython",
        "version": 3
      },
      "pygments_lexer": "ipython3",
      "nbconvert_exporter": "python",
      "file_extension": ".py"
    },
    "colab": {
      "provenance": [],
      "include_colab_link": true
    }
  },
  "nbformat_minor": 0,
  "nbformat": 4,
  "cells": [
    {
      "cell_type": "markdown",
      "metadata": {
        "id": "view-in-github",
        "colab_type": "text"
      },
      "source": [
        "<a href=\"https://colab.research.google.com/github/ChrisCS50X/Tucil3_13522135/blob/main/13522124_13522135_K3_Deadline2.ipynb\" target=\"_parent\"><img src=\"https://colab.research.google.com/assets/colab-badge.svg\" alt=\"Open In Colab\"/></a>"
      ]
    },
    {
      "cell_type": "markdown",
      "source": [
        "# IF3170 Artificial Intelligence | Praktikum\n",
        "\n",
        "This notebook serves as a template for the assignment. Please create a copy of this notebook to complete your work. You can add more code blocks, markdown blocks, or new sections if needed.\n"
      ],
      "metadata": {
        "id": "uR1JW69eLfG_"
      }
    },
    {
      "cell_type": "markdown",
      "source": [
        "Group Number: 10\n",
        "\n",
        "Group Members:\n",
        "- Aland Mulia Pratama (13522124)\n",
        "- Christian Justin Hendrawan (13522135)"
      ],
      "metadata": {
        "id": "ucbaI5rBLtjJ"
      }
    },
    {
      "cell_type": "markdown",
      "source": [
        "## Import Libraries"
      ],
      "metadata": {
        "id": "GwzsfETHLfHA"
      }
    },
    {
      "cell_type": "code",
      "source": [
        "import pandas as pd\n",
        "import numpy as np\n",
        "\n",
        "# Import other libraries if needed\n",
        "import matplotlib.pyplot as plt\n",
        "from sklearn.base import BaseEstimator, TransformerMixin\n",
        "from sklearn.impute import SimpleImputer\n",
        "import numpy as np\n",
        "from sklearn.base import BaseEstimator, TransformerMixin\n",
        "from sklearn.preprocessing import StandardScaler, MinMaxScaler, RobustScaler\n",
        "from sklearn.pipeline import Pipeline\n",
        "from sklearn.decomposition import PCA\n",
        "import seaborn as sns\n",
        "from sklearn.neighbors import KNeighborsClassifier\n",
        "from sklearn.metrics import accuracy_score, classification_report, confusion_matrix\n",
        "from sklearn.svm import SVC"
      ],
      "metadata": {
        "id": "jZJU5W_4LfHB"
      },
      "execution_count": null,
      "outputs": []
    },
    {
      "cell_type": "markdown",
      "source": [
        "## Import Dataset"
      ],
      "metadata": {
        "id": "OKbjLIdYLfHC"
      }
    },
    {
      "cell_type": "code",
      "source": [
        "# Write your code here\n",
        "train_df = pd.read_csv('https://drive.google.com/uc?id=1okKSw1vkF1PXNCKKv-mSaQ-_svJibaqY')\n",
        "\n",
        "train_df.head()"
      ],
      "metadata": {
        "id": "-IWFJ-gdLfHD",
        "colab": {
          "base_uri": "https://localhost:8080/",
          "height": 206
        },
        "outputId": "34c7626c-94c5-42b6-b959-48fc1fe8e4ea"
      },
      "execution_count": null,
      "outputs": [
        {
          "output_type": "execute_result",
          "data": {
            "text/plain": [
              "   id  N_Days             Drug      Age Sex Ascites Hepatomegaly Spiders  \\\n",
              "0   0  1170.0  D-penicillamine  23741.0   F       Y            Y       N   \n",
              "1   1  1786.0          Placebo  25329.0   F       N            Y       N   \n",
              "2   2  1067.0              NaN  15706.0   F     NaN          NaN     NaN   \n",
              "3   3  4062.0              NaN  23011.0   F     NaN          NaN     NaN   \n",
              "4   4  1067.0          Placebo  11773.0   F       N            Y       N   \n",
              "\n",
              "  Edema  Bilirubin  Cholesterol  Albumin  Copper  Alk_Phos    SGOT  \\\n",
              "0     Y        5.2          NaN     2.80   108.0    1790.0  151.90   \n",
              "1     N        1.9        302.0     3.67    52.0    1866.0   97.65   \n",
              "2     N        0.6          NaN     3.73     NaN       NaN     NaN   \n",
              "3     N        0.6          NaN     3.65     NaN       NaN     NaN   \n",
              "4     N        0.6        346.0     3.80    81.0    1257.0  122.45   \n",
              "\n",
              "   Tryglicerides  Platelets  Prothrombin  Stage Status  \n",
              "0            NaN      110.0         12.4    4.0      D  \n",
              "1          164.0      329.0          9.9    2.0      C  \n",
              "2            NaN      269.0          9.8    3.0      C  \n",
              "3            NaN      388.0         11.5    4.0      C  \n",
              "4           90.0      318.0         10.9    2.0      C  "
            ],
            "text/html": [
              "\n",
              "  <div id=\"df-33f90261-b5e0-4416-9723-b8a067b094bb\" class=\"colab-df-container\">\n",
              "    <div>\n",
              "<style scoped>\n",
              "    .dataframe tbody tr th:only-of-type {\n",
              "        vertical-align: middle;\n",
              "    }\n",
              "\n",
              "    .dataframe tbody tr th {\n",
              "        vertical-align: top;\n",
              "    }\n",
              "\n",
              "    .dataframe thead th {\n",
              "        text-align: right;\n",
              "    }\n",
              "</style>\n",
              "<table border=\"1\" class=\"dataframe\">\n",
              "  <thead>\n",
              "    <tr style=\"text-align: right;\">\n",
              "      <th></th>\n",
              "      <th>id</th>\n",
              "      <th>N_Days</th>\n",
              "      <th>Drug</th>\n",
              "      <th>Age</th>\n",
              "      <th>Sex</th>\n",
              "      <th>Ascites</th>\n",
              "      <th>Hepatomegaly</th>\n",
              "      <th>Spiders</th>\n",
              "      <th>Edema</th>\n",
              "      <th>Bilirubin</th>\n",
              "      <th>Cholesterol</th>\n",
              "      <th>Albumin</th>\n",
              "      <th>Copper</th>\n",
              "      <th>Alk_Phos</th>\n",
              "      <th>SGOT</th>\n",
              "      <th>Tryglicerides</th>\n",
              "      <th>Platelets</th>\n",
              "      <th>Prothrombin</th>\n",
              "      <th>Stage</th>\n",
              "      <th>Status</th>\n",
              "    </tr>\n",
              "  </thead>\n",
              "  <tbody>\n",
              "    <tr>\n",
              "      <th>0</th>\n",
              "      <td>0</td>\n",
              "      <td>1170.0</td>\n",
              "      <td>D-penicillamine</td>\n",
              "      <td>23741.0</td>\n",
              "      <td>F</td>\n",
              "      <td>Y</td>\n",
              "      <td>Y</td>\n",
              "      <td>N</td>\n",
              "      <td>Y</td>\n",
              "      <td>5.2</td>\n",
              "      <td>NaN</td>\n",
              "      <td>2.80</td>\n",
              "      <td>108.0</td>\n",
              "      <td>1790.0</td>\n",
              "      <td>151.90</td>\n",
              "      <td>NaN</td>\n",
              "      <td>110.0</td>\n",
              "      <td>12.4</td>\n",
              "      <td>4.0</td>\n",
              "      <td>D</td>\n",
              "    </tr>\n",
              "    <tr>\n",
              "      <th>1</th>\n",
              "      <td>1</td>\n",
              "      <td>1786.0</td>\n",
              "      <td>Placebo</td>\n",
              "      <td>25329.0</td>\n",
              "      <td>F</td>\n",
              "      <td>N</td>\n",
              "      <td>Y</td>\n",
              "      <td>N</td>\n",
              "      <td>N</td>\n",
              "      <td>1.9</td>\n",
              "      <td>302.0</td>\n",
              "      <td>3.67</td>\n",
              "      <td>52.0</td>\n",
              "      <td>1866.0</td>\n",
              "      <td>97.65</td>\n",
              "      <td>164.0</td>\n",
              "      <td>329.0</td>\n",
              "      <td>9.9</td>\n",
              "      <td>2.0</td>\n",
              "      <td>C</td>\n",
              "    </tr>\n",
              "    <tr>\n",
              "      <th>2</th>\n",
              "      <td>2</td>\n",
              "      <td>1067.0</td>\n",
              "      <td>NaN</td>\n",
              "      <td>15706.0</td>\n",
              "      <td>F</td>\n",
              "      <td>NaN</td>\n",
              "      <td>NaN</td>\n",
              "      <td>NaN</td>\n",
              "      <td>N</td>\n",
              "      <td>0.6</td>\n",
              "      <td>NaN</td>\n",
              "      <td>3.73</td>\n",
              "      <td>NaN</td>\n",
              "      <td>NaN</td>\n",
              "      <td>NaN</td>\n",
              "      <td>NaN</td>\n",
              "      <td>269.0</td>\n",
              "      <td>9.8</td>\n",
              "      <td>3.0</td>\n",
              "      <td>C</td>\n",
              "    </tr>\n",
              "    <tr>\n",
              "      <th>3</th>\n",
              "      <td>3</td>\n",
              "      <td>4062.0</td>\n",
              "      <td>NaN</td>\n",
              "      <td>23011.0</td>\n",
              "      <td>F</td>\n",
              "      <td>NaN</td>\n",
              "      <td>NaN</td>\n",
              "      <td>NaN</td>\n",
              "      <td>N</td>\n",
              "      <td>0.6</td>\n",
              "      <td>NaN</td>\n",
              "      <td>3.65</td>\n",
              "      <td>NaN</td>\n",
              "      <td>NaN</td>\n",
              "      <td>NaN</td>\n",
              "      <td>NaN</td>\n",
              "      <td>388.0</td>\n",
              "      <td>11.5</td>\n",
              "      <td>4.0</td>\n",
              "      <td>C</td>\n",
              "    </tr>\n",
              "    <tr>\n",
              "      <th>4</th>\n",
              "      <td>4</td>\n",
              "      <td>1067.0</td>\n",
              "      <td>Placebo</td>\n",
              "      <td>11773.0</td>\n",
              "      <td>F</td>\n",
              "      <td>N</td>\n",
              "      <td>Y</td>\n",
              "      <td>N</td>\n",
              "      <td>N</td>\n",
              "      <td>0.6</td>\n",
              "      <td>346.0</td>\n",
              "      <td>3.80</td>\n",
              "      <td>81.0</td>\n",
              "      <td>1257.0</td>\n",
              "      <td>122.45</td>\n",
              "      <td>90.0</td>\n",
              "      <td>318.0</td>\n",
              "      <td>10.9</td>\n",
              "      <td>2.0</td>\n",
              "      <td>C</td>\n",
              "    </tr>\n",
              "  </tbody>\n",
              "</table>\n",
              "</div>\n",
              "    <div class=\"colab-df-buttons\">\n",
              "\n",
              "  <div class=\"colab-df-container\">\n",
              "    <button class=\"colab-df-convert\" onclick=\"convertToInteractive('df-33f90261-b5e0-4416-9723-b8a067b094bb')\"\n",
              "            title=\"Convert this dataframe to an interactive table.\"\n",
              "            style=\"display:none;\">\n",
              "\n",
              "  <svg xmlns=\"http://www.w3.org/2000/svg\" height=\"24px\" viewBox=\"0 -960 960 960\">\n",
              "    <path d=\"M120-120v-720h720v720H120Zm60-500h600v-160H180v160Zm220 220h160v-160H400v160Zm0 220h160v-160H400v160ZM180-400h160v-160H180v160Zm440 0h160v-160H620v160ZM180-180h160v-160H180v160Zm440 0h160v-160H620v160Z\"/>\n",
              "  </svg>\n",
              "    </button>\n",
              "\n",
              "  <style>\n",
              "    .colab-df-container {\n",
              "      display:flex;\n",
              "      gap: 12px;\n",
              "    }\n",
              "\n",
              "    .colab-df-convert {\n",
              "      background-color: #E8F0FE;\n",
              "      border: none;\n",
              "      border-radius: 50%;\n",
              "      cursor: pointer;\n",
              "      display: none;\n",
              "      fill: #1967D2;\n",
              "      height: 32px;\n",
              "      padding: 0 0 0 0;\n",
              "      width: 32px;\n",
              "    }\n",
              "\n",
              "    .colab-df-convert:hover {\n",
              "      background-color: #E2EBFA;\n",
              "      box-shadow: 0px 1px 2px rgba(60, 64, 67, 0.3), 0px 1px 3px 1px rgba(60, 64, 67, 0.15);\n",
              "      fill: #174EA6;\n",
              "    }\n",
              "\n",
              "    .colab-df-buttons div {\n",
              "      margin-bottom: 4px;\n",
              "    }\n",
              "\n",
              "    [theme=dark] .colab-df-convert {\n",
              "      background-color: #3B4455;\n",
              "      fill: #D2E3FC;\n",
              "    }\n",
              "\n",
              "    [theme=dark] .colab-df-convert:hover {\n",
              "      background-color: #434B5C;\n",
              "      box-shadow: 0px 1px 3px 1px rgba(0, 0, 0, 0.15);\n",
              "      filter: drop-shadow(0px 1px 2px rgba(0, 0, 0, 0.3));\n",
              "      fill: #FFFFFF;\n",
              "    }\n",
              "  </style>\n",
              "\n",
              "    <script>\n",
              "      const buttonEl =\n",
              "        document.querySelector('#df-33f90261-b5e0-4416-9723-b8a067b094bb button.colab-df-convert');\n",
              "      buttonEl.style.display =\n",
              "        google.colab.kernel.accessAllowed ? 'block' : 'none';\n",
              "\n",
              "      async function convertToInteractive(key) {\n",
              "        const element = document.querySelector('#df-33f90261-b5e0-4416-9723-b8a067b094bb');\n",
              "        const dataTable =\n",
              "          await google.colab.kernel.invokeFunction('convertToInteractive',\n",
              "                                                    [key], {});\n",
              "        if (!dataTable) return;\n",
              "\n",
              "        const docLinkHtml = 'Like what you see? Visit the ' +\n",
              "          '<a target=\"_blank\" href=https://colab.research.google.com/notebooks/data_table.ipynb>data table notebook</a>'\n",
              "          + ' to learn more about interactive tables.';\n",
              "        element.innerHTML = '';\n",
              "        dataTable['output_type'] = 'display_data';\n",
              "        await google.colab.output.renderOutput(dataTable, element);\n",
              "        const docLink = document.createElement('div');\n",
              "        docLink.innerHTML = docLinkHtml;\n",
              "        element.appendChild(docLink);\n",
              "      }\n",
              "    </script>\n",
              "  </div>\n",
              "\n",
              "\n",
              "<div id=\"df-35b48c05-2a89-4f20-be74-2b0d71f95800\">\n",
              "  <button class=\"colab-df-quickchart\" onclick=\"quickchart('df-35b48c05-2a89-4f20-be74-2b0d71f95800')\"\n",
              "            title=\"Suggest charts\"\n",
              "            style=\"display:none;\">\n",
              "\n",
              "<svg xmlns=\"http://www.w3.org/2000/svg\" height=\"24px\"viewBox=\"0 0 24 24\"\n",
              "     width=\"24px\">\n",
              "    <g>\n",
              "        <path d=\"M19 3H5c-1.1 0-2 .9-2 2v14c0 1.1.9 2 2 2h14c1.1 0 2-.9 2-2V5c0-1.1-.9-2-2-2zM9 17H7v-7h2v7zm4 0h-2V7h2v10zm4 0h-2v-4h2v4z\"/>\n",
              "    </g>\n",
              "</svg>\n",
              "  </button>\n",
              "\n",
              "<style>\n",
              "  .colab-df-quickchart {\n",
              "      --bg-color: #E8F0FE;\n",
              "      --fill-color: #1967D2;\n",
              "      --hover-bg-color: #E2EBFA;\n",
              "      --hover-fill-color: #174EA6;\n",
              "      --disabled-fill-color: #AAA;\n",
              "      --disabled-bg-color: #DDD;\n",
              "  }\n",
              "\n",
              "  [theme=dark] .colab-df-quickchart {\n",
              "      --bg-color: #3B4455;\n",
              "      --fill-color: #D2E3FC;\n",
              "      --hover-bg-color: #434B5C;\n",
              "      --hover-fill-color: #FFFFFF;\n",
              "      --disabled-bg-color: #3B4455;\n",
              "      --disabled-fill-color: #666;\n",
              "  }\n",
              "\n",
              "  .colab-df-quickchart {\n",
              "    background-color: var(--bg-color);\n",
              "    border: none;\n",
              "    border-radius: 50%;\n",
              "    cursor: pointer;\n",
              "    display: none;\n",
              "    fill: var(--fill-color);\n",
              "    height: 32px;\n",
              "    padding: 0;\n",
              "    width: 32px;\n",
              "  }\n",
              "\n",
              "  .colab-df-quickchart:hover {\n",
              "    background-color: var(--hover-bg-color);\n",
              "    box-shadow: 0 1px 2px rgba(60, 64, 67, 0.3), 0 1px 3px 1px rgba(60, 64, 67, 0.15);\n",
              "    fill: var(--button-hover-fill-color);\n",
              "  }\n",
              "\n",
              "  .colab-df-quickchart-complete:disabled,\n",
              "  .colab-df-quickchart-complete:disabled:hover {\n",
              "    background-color: var(--disabled-bg-color);\n",
              "    fill: var(--disabled-fill-color);\n",
              "    box-shadow: none;\n",
              "  }\n",
              "\n",
              "  .colab-df-spinner {\n",
              "    border: 2px solid var(--fill-color);\n",
              "    border-color: transparent;\n",
              "    border-bottom-color: var(--fill-color);\n",
              "    animation:\n",
              "      spin 1s steps(1) infinite;\n",
              "  }\n",
              "\n",
              "  @keyframes spin {\n",
              "    0% {\n",
              "      border-color: transparent;\n",
              "      border-bottom-color: var(--fill-color);\n",
              "      border-left-color: var(--fill-color);\n",
              "    }\n",
              "    20% {\n",
              "      border-color: transparent;\n",
              "      border-left-color: var(--fill-color);\n",
              "      border-top-color: var(--fill-color);\n",
              "    }\n",
              "    30% {\n",
              "      border-color: transparent;\n",
              "      border-left-color: var(--fill-color);\n",
              "      border-top-color: var(--fill-color);\n",
              "      border-right-color: var(--fill-color);\n",
              "    }\n",
              "    40% {\n",
              "      border-color: transparent;\n",
              "      border-right-color: var(--fill-color);\n",
              "      border-top-color: var(--fill-color);\n",
              "    }\n",
              "    60% {\n",
              "      border-color: transparent;\n",
              "      border-right-color: var(--fill-color);\n",
              "    }\n",
              "    80% {\n",
              "      border-color: transparent;\n",
              "      border-right-color: var(--fill-color);\n",
              "      border-bottom-color: var(--fill-color);\n",
              "    }\n",
              "    90% {\n",
              "      border-color: transparent;\n",
              "      border-bottom-color: var(--fill-color);\n",
              "    }\n",
              "  }\n",
              "</style>\n",
              "\n",
              "  <script>\n",
              "    async function quickchart(key) {\n",
              "      const quickchartButtonEl =\n",
              "        document.querySelector('#' + key + ' button');\n",
              "      quickchartButtonEl.disabled = true;  // To prevent multiple clicks.\n",
              "      quickchartButtonEl.classList.add('colab-df-spinner');\n",
              "      try {\n",
              "        const charts = await google.colab.kernel.invokeFunction(\n",
              "            'suggestCharts', [key], {});\n",
              "      } catch (error) {\n",
              "        console.error('Error during call to suggestCharts:', error);\n",
              "      }\n",
              "      quickchartButtonEl.classList.remove('colab-df-spinner');\n",
              "      quickchartButtonEl.classList.add('colab-df-quickchart-complete');\n",
              "    }\n",
              "    (() => {\n",
              "      let quickchartButtonEl =\n",
              "        document.querySelector('#df-35b48c05-2a89-4f20-be74-2b0d71f95800 button');\n",
              "      quickchartButtonEl.style.display =\n",
              "        google.colab.kernel.accessAllowed ? 'block' : 'none';\n",
              "    })();\n",
              "  </script>\n",
              "</div>\n",
              "\n",
              "    </div>\n",
              "  </div>\n"
            ],
            "application/vnd.google.colaboratory.intrinsic+json": {
              "type": "dataframe",
              "variable_name": "train_df",
              "summary": "{\n  \"name\": \"train_df\",\n  \"rows\": 15000,\n  \"fields\": [\n    {\n      \"column\": \"id\",\n      \"properties\": {\n        \"dtype\": \"number\",\n        \"std\": 4330,\n        \"min\": 0,\n        \"max\": 14999,\n        \"num_unique_values\": 15000,\n        \"samples\": [\n          11499,\n          6475,\n          13167\n        ],\n        \"semantic_type\": \"\",\n        \"description\": \"\"\n      }\n    },\n    {\n      \"column\": \"N_Days\",\n      \"properties\": {\n        \"dtype\": \"number\",\n        \"std\": 1374.0933217857448,\n        \"min\": 10.8,\n        \"max\": 25976.0,\n        \"num_unique_values\": 561,\n        \"samples\": [\n          1227.0,\n          1615.0,\n          1356.0\n        ],\n        \"semantic_type\": \"\",\n        \"description\": \"\"\n      }\n    },\n    {\n      \"column\": \"Drug\",\n      \"properties\": {\n        \"dtype\": \"category\",\n        \"num_unique_values\": 2,\n        \"samples\": [\n          \"Placebo\",\n          \"D-penicillamine\"\n        ],\n        \"semantic_type\": \"\",\n        \"description\": \"\"\n      }\n    },\n    {\n      \"column\": \"Age\",\n      \"properties\": {\n        \"dtype\": \"number\",\n        \"std\": 3706.1224753116962,\n        \"min\": 174.0,\n        \"max\": 91894.0,\n        \"num_unique_values\": 378,\n        \"samples\": [\n          16109.0,\n          24064.0\n        ],\n        \"semantic_type\": \"\",\n        \"description\": \"\"\n      }\n    },\n    {\n      \"column\": \"Sex\",\n      \"properties\": {\n        \"dtype\": \"category\",\n        \"num_unique_values\": 2,\n        \"samples\": [\n          \"M\",\n          \"F\"\n        ],\n        \"semantic_type\": \"\",\n        \"description\": \"\"\n      }\n    },\n    {\n      \"column\": \"Ascites\",\n      \"properties\": {\n        \"dtype\": \"category\",\n        \"num_unique_values\": 2,\n        \"samples\": [\n          \"N\",\n          \"Y\"\n        ],\n        \"semantic_type\": \"\",\n        \"description\": \"\"\n      }\n    },\n    {\n      \"column\": \"Hepatomegaly\",\n      \"properties\": {\n        \"dtype\": \"category\",\n        \"num_unique_values\": 3,\n        \"samples\": [\n          \"Y\",\n          \"N\"\n        ],\n        \"semantic_type\": \"\",\n        \"description\": \"\"\n      }\n    },\n    {\n      \"column\": \"Spiders\",\n      \"properties\": {\n        \"dtype\": \"category\",\n        \"num_unique_values\": 2,\n        \"samples\": [\n          \"Y\",\n          \"N\"\n        ],\n        \"semantic_type\": \"\",\n        \"description\": \"\"\n      }\n    },\n    {\n      \"column\": \"Edema\",\n      \"properties\": {\n        \"dtype\": \"category\",\n        \"num_unique_values\": 3,\n        \"samples\": [\n          \"Y\",\n          \"N\"\n        ],\n        \"semantic_type\": \"\",\n        \"description\": \"\"\n      }\n    },\n    {\n      \"column\": \"Bilirubin\",\n      \"properties\": {\n        \"dtype\": \"number\",\n        \"std\": 2.763713195201555,\n        \"min\": 0.3,\n        \"max\": 28.0,\n        \"num_unique_values\": 124,\n        \"samples\": [\n          11.4,\n          5.0\n        ],\n        \"semantic_type\": \"\",\n        \"description\": \"\"\n      }\n    },\n    {\n      \"column\": \"Cholesterol\",\n      \"properties\": {\n        \"dtype\": \"number\",\n        \"std\": 163.04111689217407,\n        \"min\": 120.0,\n        \"max\": 1790.0,\n        \"num_unique_values\": 210,\n        \"samples\": [\n          290.0,\n          350.0\n        ],\n        \"semantic_type\": \"\",\n        \"description\": \"\"\n      }\n    },\n    {\n      \"column\": \"Albumin\",\n      \"properties\": {\n        \"dtype\": \"number\",\n        \"std\": 0.37380707182540435,\n        \"min\": 1.96,\n        \"max\": 4.7,\n        \"num_unique_values\": 163,\n        \"samples\": [\n          2.82,\n          2.74\n        ],\n        \"semantic_type\": \"\",\n        \"description\": \"\"\n      }\n    },\n    {\n      \"column\": \"Copper\",\n      \"properties\": {\n        \"dtype\": \"number\",\n        \"std\": 76.66254620047685,\n        \"min\": 0.9,\n        \"max\": 604.0,\n        \"num_unique_values\": 177,\n        \"samples\": [\n          20.0,\n          182.0\n        ],\n        \"semantic_type\": \"\",\n        \"description\": \"\"\n      }\n    },\n    {\n      \"column\": \"Alk_Phos\",\n      \"properties\": {\n        \"dtype\": \"number\",\n        \"std\": 1882.9042160837091,\n        \"min\": 3.41,\n        \"max\": 18102.0,\n        \"num_unique_values\": 366,\n        \"samples\": [\n          648.0,\n          5430.2\n        ],\n        \"semantic_type\": \"\",\n        \"description\": \"\"\n      }\n    },\n    {\n      \"column\": \"SGOT\",\n      \"properties\": {\n        \"dtype\": \"number\",\n        \"std\": 152.09901138190887,\n        \"min\": 0.9,\n        \"max\": 12285.0,\n        \"num_unique_values\": 193,\n        \"samples\": [\n          299.15,\n          238.7\n        ],\n        \"semantic_type\": \"\",\n        \"description\": \"\"\n      }\n    },\n    {\n      \"column\": \"Tryglicerides\",\n      \"properties\": {\n        \"dtype\": \"number\",\n        \"std\": 49.82847792888251,\n        \"min\": 11.0,\n        \"max\": 608.0,\n        \"num_unique_values\": 159,\n        \"samples\": [\n          86.0,\n          38.0\n        ],\n        \"semantic_type\": \"\",\n        \"description\": \"\"\n      }\n    },\n    {\n      \"column\": \"Platelets\",\n      \"properties\": {\n        \"dtype\": \"number\",\n        \"std\": 96.08158724249792,\n        \"min\": 0.9,\n        \"max\": 3150.0,\n        \"num_unique_values\": 260,\n        \"samples\": [\n          426.0,\n          332.0\n        ],\n        \"semantic_type\": \"\",\n        \"description\": \"\"\n      }\n    },\n    {\n      \"column\": \"Prothrombin\",\n      \"properties\": {\n        \"dtype\": \"number\",\n        \"std\": 0.7297260995622581,\n        \"min\": 4.16,\n        \"max\": 18.0,\n        \"num_unique_values\": 53,\n        \"samples\": [\n          11.7,\n          12.6\n        ],\n        \"semantic_type\": \"\",\n        \"description\": \"\"\n      }\n    },\n    {\n      \"column\": \"Stage\",\n      \"properties\": {\n        \"dtype\": \"number\",\n        \"std\": 0.8871125784272688,\n        \"min\": 1.0,\n        \"max\": 4.0,\n        \"num_unique_values\": 4,\n        \"samples\": [\n          2.0,\n          1.0\n        ],\n        \"semantic_type\": \"\",\n        \"description\": \"\"\n      }\n    },\n    {\n      \"column\": \"Status\",\n      \"properties\": {\n        \"dtype\": \"category\",\n        \"num_unique_values\": 3,\n        \"samples\": [\n          \"D\",\n          \"C\"\n        ],\n        \"semantic_type\": \"\",\n        \"description\": \"\"\n      }\n    }\n  ]\n}"
            }
          },
          "metadata": {},
          "execution_count": 7
        }
      ]
    },
    {
      "cell_type": "markdown",
      "source": [
        "# 1. Exploratory Data Analysis\n",
        "\n",
        "Exploratory Data Analysis (EDA) is a crucial step in the data analysis process that involves examining and visualizing data sets to uncover patterns, trends, anomalies, and insights. It is the first step before applying more advanced statistical and machine learning techniques. EDA helps you to gain a deep understanding of the data you are working with, allowing you to make informed decisions and formulate hypotheses for further analysis."
      ],
      "metadata": {
        "id": "YdSor5sdIYGs"
      }
    },
    {
      "cell_type": "code",
      "source": [
        "# 1. Basic Statistic and info\n",
        "\n",
        "print(\"Dataset Shape:\", train_df.shape)\n",
        "print(\"\\nFeature Names:\")\n",
        "print(train_df.columns.tolist())\n",
        "print(\"\\nBasic Statistics:\")\n",
        "print(train_df.describe())"
      ],
      "metadata": {
        "id": "bGiGPVYNIoWk",
        "colab": {
          "base_uri": "https://localhost:8080/"
        },
        "outputId": "172e1aa8-bd6c-460c-86b5-2d0afef68429"
      },
      "execution_count": null,
      "outputs": [
        {
          "output_type": "stream",
          "name": "stdout",
          "text": [
            "Dataset Shape: (15000, 20)\n",
            "\n",
            "Feature Names:\n",
            "['id', 'N_Days', 'Drug', 'Age', 'Sex', 'Ascites', 'Hepatomegaly', 'Spiders', 'Edema', 'Bilirubin', 'Cholesterol', 'Albumin', 'Copper', 'Alk_Phos', 'SGOT', 'Tryglicerides', 'Platelets', 'Prothrombin', 'Stage', 'Status']\n",
            "\n",
            "Basic Statistics:\n",
            "                 id        N_Days           Age     Bilirubin  Cholesterol  \\\n",
            "count  15000.000000  15000.000000  15000.000000  15000.000000  6626.000000   \n",
            "mean    7499.500000   1969.116920  19298.427133      1.862907   322.805916   \n",
            "std     4330.271354   1374.093322   3706.122475      2.763713   163.041117   \n",
            "min        0.000000     10.800000    174.000000      0.300000   120.000000   \n",
            "25%     3749.750000   1092.000000  16463.000000      0.700000   242.000000   \n",
            "50%     7499.500000   1783.000000  19577.000000      0.900000   280.000000   \n",
            "75%    11249.250000   2615.000000  22388.000000      1.800000   360.000000   \n",
            "max    14999.000000  25976.000000  91894.000000     28.000000  1790.000000   \n",
            "\n",
            "            Albumin       Copper      Alk_Phos          SGOT  Tryglicerides  \\\n",
            "count  15000.000000  8340.000000   8444.000000   8441.000000    6575.000000   \n",
            "mean       3.520585    76.395725   1676.897656    108.214094     110.670418   \n",
            "std        0.373807    76.662546   1882.904216    152.099011      49.828478   \n",
            "min        1.960000     0.900000      3.410000      0.900000      11.000000   \n",
            "25%        3.290000    31.000000    721.000000     71.000000      80.000000   \n",
            "50%        3.580000    52.000000   1072.000000     97.650000      99.000000   \n",
            "75%        3.770000    89.000000   1689.000000    130.200000     133.000000   \n",
            "max        4.700000   604.000000  18102.000000  12285.000000     608.000000   \n",
            "\n",
            "          Platelets   Prothrombin         Stage  \n",
            "count  14416.000000  14984.000000  15000.000000  \n",
            "mean     254.266294     10.624837      3.014733  \n",
            "std       96.081587      0.729726      0.887113  \n",
            "min        0.900000      4.160000      1.000000  \n",
            "25%      189.000000     10.100000      2.000000  \n",
            "50%      251.000000     10.600000      3.000000  \n",
            "75%      312.000000     11.000000      4.000000  \n",
            "max     3150.000000     18.000000      4.000000  \n"
          ]
        }
      ]
    },
    {
      "cell_type": "code",
      "source": [
        "# 2. Check missing values\n",
        "print(\"Missing Values:\\n\")\n",
        "print(train_df.isnull().sum())"
      ],
      "metadata": {
        "colab": {
          "base_uri": "https://localhost:8080/"
        },
        "id": "r-WbmwIzSkEB",
        "outputId": "14234387-43f4-4bcb-ebbc-98c8dc59778f"
      },
      "execution_count": null,
      "outputs": [
        {
          "output_type": "stream",
          "name": "stdout",
          "text": [
            "Missing Values:\n",
            "\n",
            "id                  0\n",
            "N_Days              0\n",
            "Drug             6550\n",
            "Age                 0\n",
            "Sex                 0\n",
            "Ascites          6547\n",
            "Hepatomegaly     6552\n",
            "Spiders          6559\n",
            "Edema               0\n",
            "Bilirubin           0\n",
            "Cholesterol      8374\n",
            "Albumin             0\n",
            "Copper           6660\n",
            "Alk_Phos         6556\n",
            "SGOT             6559\n",
            "Tryglicerides    8425\n",
            "Platelets         584\n",
            "Prothrombin        16\n",
            "Stage               0\n",
            "Status              0\n",
            "dtype: int64\n"
          ]
        }
      ]
    },
    {
      "cell_type": "code",
      "source": [
        "# 3. Feature distributions and class balance\n",
        "\n",
        "# Create a figure with 2 subplots\n",
        "fig, axes = plt.subplots(1, 2, figsize=(18, 6))  # 1 row, 2 columns\n",
        "\n",
        "# Plot distribution of the 'Status' class (Normal vs Disease) on the first subplot\n",
        "train_df['Status'].value_counts().plot(kind='bar', ax=axes[0])\n",
        "axes[0].set_title('Distribution of Normal vs Disease Status')\n",
        "axes[0].set_xlabel('Status (D=Disease, N=Normal)')\n",
        "axes[0].set_ylabel('Count')\n",
        "axes[0].set_xticklabels(axes[0].get_xticklabels(), rotation=0)\n",
        "\n",
        "# Plot distribution of 'Stage' categories (Stages of the condition) on the second subplot\n",
        "train_df['Stage'].value_counts().plot(kind='bar', ax=axes[1])\n",
        "axes[1].set_title('Distribution of Disease Stages')\n",
        "axes[1].set_xlabel('Disease Stage')\n",
        "axes[1].set_ylabel('Count')\n",
        "axes[1].set_xticklabels(axes[1].get_xticklabels(), rotation=45)\n",
        "\n",
        "# Adjust layout to add space between subplots\n",
        "plt.tight_layout()\n",
        "\n",
        "plt.show()\n"
      ],
      "metadata": {
        "colab": {
          "base_uri": "https://localhost:8080/",
          "height": 451
        },
        "id": "WyRn6IicSuXI",
        "outputId": "b2a243b1-9cae-48c5-d43e-5d91cf726bfd"
      },
      "execution_count": null,
      "outputs": [
        {
          "output_type": "display_data",
          "data": {
            "text/plain": [
              "<Figure size 1800x600 with 2 Axes>"
            ],
            "image/png": "[encoded data removed]"
          },
          "metadata": {}
        }
      ]
    },
    {
      "cell_type": "markdown",
      "source": [
        "# 2. Split Training Set and Validation Set\n",
        "\n",
        "Splitting the training and validation set works as an early diagnostic towards the performance of the model we train. This is done before the preprocessing steps to **avoid data leakage inbetween the sets**. If you want to use k-fold cross-validation, split the data later and do the cleaning and preprocessing separately for each split.\n",
        "\n",
        "Note: For training, you should use the data contained in the `train.csv` given by the TA. The `test.csv` data is only used for kaggle submission."
      ],
      "metadata": {
        "id": "gvx-gT3bLfHM"
      }
    },
    {
      "cell_type": "code",
      "source": [
        "# Split training set and validation set here, store into variables train_set and val_set.\n",
        "# Remember to also keep the original training set before splitting. This will come important later.\n",
        "# train_set, val_set = ...\n",
        "\n",
        "# Split training set and validation set here, store into variables train_set and val_set.\n",
        "# Remember to also keep the original training set before splitting. This will come important later.\n",
        "# train_set, val_set = ...\n",
        "\n",
        "from sklearn.model_selection import train_test_split\n",
        "\n",
        "# 1. Store original training data\n",
        "original_train_df = train_df.copy()\n",
        "\n",
        "# 2. Separate features and target\n",
        "X = train_df.drop('Status', axis=1)\n",
        "y = train_df['Status']\n",
        "\n",
        "# 3. Perform stratified split\n",
        "X_train, X_val, y_train, y_val = train_test_split(\n",
        "    X,\n",
        "    y,\n",
        "    test_size=0.2,\n",
        "    random_state=42,\n",
        "    stratify=y  # Maintain class distribution\n",
        ")\n",
        "\n",
        "train_set = X_train.copy()\n",
        "train_set['Status'] = y_train\n",
        "val_set = X_val.copy()\n",
        "val_set['Status'] = y_val\n",
        "\n",
        "\n",
        "# 5. Verify splits\n",
        "print(\"Original dataset:\", original_train_df.shape)\n",
        "print(\"Training set:\", train_set.shape)\n",
        "print(\"Validation set:\", val_set.shape)\n",
        "\n",
        "print(\"\\nClass distribution:\")\n",
        "print(\"\\nOriginal:\")\n",
        "print(original_train_df['Status'].value_counts(normalize=True))\n",
        "print(\"\\nTraining:\")\n",
        "print(train_set['Status'].value_counts(normalize=True))\n",
        "print(\"\\nValidation:\")\n",
        "print(val_set['Status'].value_counts(normalize=True))"
      ],
      "metadata": {
        "id": "4yWCUFFBLfHM",
        "outputId": "b26c3427-7592-4416-b3f2-e48bddd08022",
        "colab": {
          "base_uri": "https://localhost:8080/"
        }
      },
      "execution_count": null,
      "outputs": [
        {
          "output_type": "stream",
          "name": "stdout",
          "text": [
            "Original dataset: (15000, 20)\n",
            "Training set: (12000, 20)\n",
            "Validation set: (3000, 20)\n",
            "\n",
            "Class distribution:\n",
            "\n",
            "Original:\n",
            "Status\n",
            "C     0.674467\n",
            "D     0.301667\n",
            "CL    0.023867\n",
            "Name: proportion, dtype: float64\n",
            "\n",
            "Training:\n",
            "Status\n",
            "C     0.674500\n",
            "D     0.301667\n",
            "CL    0.023833\n",
            "Name: proportion, dtype: float64\n",
            "\n",
            "Validation:\n",
            "Status\n",
            "C     0.674333\n",
            "D     0.301667\n",
            "CL    0.024000\n",
            "Name: proportion, dtype: float64\n"
          ]
        }
      ]
    },
    {
      "cell_type": "markdown",
      "source": [
        "# 3. Data Cleaning and Preprocessing\n",
        "\n",
        "This step is the first thing to be done once a Data Scientist have grasped a general knowledge of the data. Raw data is **seldom ready for training**, therefore steps need to be taken to clean and format the data for the Machine Learning model to interpret.\n",
        "\n",
        "By performing data cleaning and preprocessing, you ensure that your dataset is ready for model training, leading to more accurate and reliable machine learning results. These steps are essential for transforming raw data into a format that machine learning algorithms can effectively learn from and make predictions.\n",
        "\n",
        "For each step that you will do, **please explain the reason why did you do that process. Write it in a markdown cell under the code cell you wrote.**"
      ],
      "metadata": {
        "id": "IC14lmo_LfHN"
      }
    },
    {
      "cell_type": "markdown",
      "source": [
        "### I. Handling Missing Data\n",
        "\n",
        "Missing data can adversely affect the performance and accuracy of machine learning models."
      ],
      "metadata": {
        "id": "k5gKzPH-avGn"
      }
    },
    {
      "cell_type": "markdown",
      "source": [
        "### Reasoning Behind Choosing Data Imputation with Mean/Median/Mode Strategy:\n",
        "\n",
        "1. **Systematic Pattern in Missing Data**  \n",
        "   The consistent missing values across several features, with some features like `Cholesterol` (55.5%) and `Tryglicerides` (55.8%) having high missing rates, indicate a systematic pattern in how the data was collected or processed. The missing data is not random, and imputing the values would help maintain the underlying data structure rather than introducing bias or misleading patterns.\n",
        "\n",
        "2. **Data Volume Preservation**  \n",
        "   With features like `Drug`, `Ascites`, and `Hepatomegaly` each having over 5,000 missing values (around 43% of the data), removing these rows would drastically reduce the dataset size. This reduction in data could negatively impact the model’s ability to detect complex patterns or rare attack types, which are especially crucial in network security. Imputation preserves data volume, ensuring the analysis includes as much information as possible.\n",
        "\n",
        "3. **Feature Interdependence**  \n",
        "   Features like `Drug`, `Ascites`, `Hepatomegaly`, and `Cholesterol` are likely interdependent in medical datasets, and missing values in these features could distort the relationships if deleted. Using imputation methods such as median for numeric data or mode for categorical data helps maintain these feature correlations and natural distributions. Deleting rows with missing values would disrupt these relationships and reduce the overall quality of the data.\n",
        "\n",
        "4. **Practical Implementation Benefits**  \n",
        "   The imputation strategy using median for numeric data (e.g., `Platelets`, `Alk_Phos`) and mode for categorical data (e.g., `Drug`, `Ascites`) is computationally efficient and can be applied consistently across the entire dataset. This approach is particularly useful when dealing with a substantial number of missing values, as it allows for reproducible and straightforward implementation on both the training and validation sets, while maintaining the integrity of feature distributions.\n",
        "\n"
      ],
      "metadata": {
        "id": "8xVaflfDbBM1"
      }
    },
    {
      "cell_type": "code",
      "source": [
        "# Check missing values in training set\n",
        "print(\"Missing values in train_set:\\n\")\n",
        "print(train_set.isnull().sum()[train_set.isnull().sum() > 0])\n",
        "\n",
        "# Calculate percentage of missing values\n",
        "missing_percentages = (train_set.isnull().sum() / len(train_set)) * 100\n",
        "print(\"\\nPercentage of missing values in train_set:\\n\")\n",
        "print(missing_percentages[missing_percentages > 0])"
      ],
      "metadata": {
        "colab": {
          "base_uri": "https://localhost:8080/"
        },
        "id": "0kpyczSrbowE",
        "outputId": "043f6391-4c06-47b6-d1b4-053adc388893"
      },
      "execution_count": null,
      "outputs": [
        {
          "output_type": "stream",
          "name": "stdout",
          "text": [
            "Missing values in train_set:\n",
            "\n",
            "Drug             5201\n",
            "Ascites          5199\n",
            "Hepatomegaly     5202\n",
            "Spiders          5210\n",
            "Cholesterol      6660\n",
            "Copper           5287\n",
            "Alk_Phos         5207\n",
            "SGOT             5209\n",
            "Tryglicerides    6694\n",
            "Platelets         481\n",
            "Prothrombin        13\n",
            "dtype: int64\n",
            "\n",
            "Percentage of missing values in train_set:\n",
            "\n",
            "Drug             43.341667\n",
            "Ascites          43.325000\n",
            "Hepatomegaly     43.350000\n",
            "Spiders          43.416667\n",
            "Cholesterol      55.500000\n",
            "Copper           44.058333\n",
            "Alk_Phos         43.391667\n",
            "SGOT             43.408333\n",
            "Tryglicerides    55.783333\n",
            "Platelets         4.008333\n",
            "Prothrombin       0.108333\n",
            "dtype: float64\n"
          ]
        }
      ]
    },
    {
      "cell_type": "code",
      "source": [
        "# Write your code here\n",
        "def handle_missing_data(df):\n",
        "    print(\"Before handling missing values:\")\n",
        "    print(df.isnull().sum()[df.isnull().sum() > 0])\n",
        "\n",
        "    # Make a copy to avoid modifying original\n",
        "    df_clean = df.copy()\n",
        "\n",
        "    # Separate columns by type\n",
        "    numeric_cols = df_clean.select_dtypes(include=['float64', 'int64']).columns\n",
        "    categorical_cols = df_clean.select_dtypes(include=['object']).columns\n",
        "\n",
        "    # 1. Handle numeric features\n",
        "    for col in numeric_cols:\n",
        "        if df_clean[col].isnull().sum() > 0:\n",
        "            # Use median for features with outliers\n",
        "            df_clean[col] = df_clean[col].fillna(df_clean[col].median())\n",
        "\n",
        "    # 2. Handle categorical features\n",
        "    for col in categorical_cols:\n",
        "        if df_clean[col].isnull().sum() > 0:\n",
        "            # Use mode for categorical\n",
        "            df_clean[col] = df_clean[col].fillna(df_clean[col].mode()[0])\n",
        "\n",
        "    print(\"\\nAfter handling missing values:\")\n",
        "    print(df_clean.isnull().sum()[df_clean.isnull().sum() > 0])\n",
        "\n",
        "    return df_clean\n",
        "\n",
        "# Apply missing data handling\n",
        "train_df_clean = handle_missing_data(train_set)"
      ],
      "metadata": {
        "id": "5rksSMAWICY_",
        "outputId": "4584d78a-49a1-49f5-e0b1-03b4d433d32f",
        "colab": {
          "base_uri": "https://localhost:8080/"
        }
      },
      "execution_count": null,
      "outputs": [
        {
          "output_type": "stream",
          "name": "stdout",
          "text": [
            "Before handling missing values:\n",
            "Drug             5201\n",
            "Ascites          5199\n",
            "Hepatomegaly     5202\n",
            "Spiders          5210\n",
            "Cholesterol      6660\n",
            "Copper           5287\n",
            "Alk_Phos         5207\n",
            "SGOT             5209\n",
            "Tryglicerides    6694\n",
            "Platelets         481\n",
            "Prothrombin        13\n",
            "dtype: int64\n",
            "\n",
            "After handling missing values:\n",
            "Series([], dtype: int64)\n"
          ]
        }
      ]
    },
    {
      "cell_type": "code",
      "source": [
        "# Check missing values in training set\n",
        "print(\"Missing values in train_df_clean:\\n\")\n",
        "print(train_df_clean.isnull().sum()[train_set.isnull().sum() > 0])\n",
        "\n",
        "# Calculate percentage of missing values\n",
        "missing_percentages = (train_df_clean.isnull().sum() / len(train_df_clean)) * 100\n",
        "print(\"\\nPercentage of missing values in train_df_clean:\\n\")\n",
        "print(missing_percentages[missing_percentages > 0])"
      ],
      "metadata": {
        "colab": {
          "base_uri": "https://localhost:8080/"
        },
        "id": "tNjkJL-YWm6n",
        "outputId": "4db44b1c-6ed4-4e6c-848e-151950d369d3"
      },
      "execution_count": null,
      "outputs": [
        {
          "output_type": "stream",
          "name": "stdout",
          "text": [
            "Missing values in train_df_clean:\n",
            "\n",
            "Drug             0\n",
            "Ascites          0\n",
            "Hepatomegaly     0\n",
            "Spiders          0\n",
            "Cholesterol      0\n",
            "Copper           0\n",
            "Alk_Phos         0\n",
            "SGOT             0\n",
            "Tryglicerides    0\n",
            "Platelets        0\n",
            "Prothrombin      0\n",
            "dtype: int64\n",
            "\n",
            "Percentage of missing values in train_df_clean:\n",
            "\n",
            "Series([], dtype: float64)\n"
          ]
        }
      ]
    },
    {
      "cell_type": "markdown",
      "source": [
        "# 3. Compile Preprocessing Pipeline\n",
        "\n",
        "All of the preprocessing classes or functions defined earlier will be compiled in this step."
      ],
      "metadata": {
        "id": "-ctVzt5DLfHd"
      }
    },
    {
      "cell_type": "markdown",
      "source": [
        "If you use sklearn to create preprocessing classes, you can list your preprocessing classes in the Pipeline object sequentially, and then fit and transform your data."
      ],
      "metadata": {
        "id": "S_ZlncSVjJG6"
      }
    },
    {
      "cell_type": "code",
      "source": [
        "# 1. FeatureImputer()\n",
        "\n",
        "class FeatureImputer(BaseEstimator, TransformerMixin):\n",
        "    def __init__(self, num_strategy='mean', cat_strategy='most_frequent', constant_value=None):\n",
        "        \"\"\"\n",
        "        Custom feature imputer to handle missing values for both numeric and categorical columns.\n",
        "\n",
        "        Parameters:\n",
        "        - num_strategy: str, default='mean'\n",
        "            The imputation strategy for numeric columns. Options are 'mean', 'median', 'constant'.\n",
        "        - cat_strategy: str, default='most_frequent'\n",
        "            The imputation strategy for categorical columns. Options are 'most_frequent', 'constant'.\n",
        "        - constant_value: str or numeric, default=None\n",
        "            The constant value to use for imputation if 'constant' strategy is chosen for numeric or categorical columns.\n",
        "\n",
        "        This parameter is mandatory and must be specified when initializing the class.\n",
        "        \"\"\"\n",
        "        # Validate strategies\n",
        "        if num_strategy not in ['mean', 'median', 'constant']:\n",
        "            raise ValueError(\"Invalid numeric strategy. Choose from ['mean', 'median', 'constant']\")\n",
        "        if cat_strategy not in ['most_frequent', 'constant']:\n",
        "            raise ValueError(\"Invalid categorical strategy. Choose from ['most_frequent', 'constant']\")\n",
        "\n",
        "        self.num_strategy = num_strategy\n",
        "        self.cat_strategy = cat_strategy\n",
        "        self.constant_value = constant_value\n",
        "\n",
        "        # Create imputer for numerical and categorical columns\n",
        "        self.num_imputer = SimpleImputer(strategy=self.num_strategy, fill_value=self.constant_value)\n",
        "        self.cat_imputer = SimpleImputer(strategy=self.cat_strategy, fill_value=self.constant_value)\n",
        "\n",
        "    def fit(self, X, y=None):\n",
        "        \"\"\"\n",
        "        Fits the imputer on the input data X.\n",
        "        \"\"\"\n",
        "        # Separate numeric and categorical columns\n",
        "        num_cols = X.select_dtypes(include=[np.number]).columns\n",
        "        cat_cols = X.select_dtypes(exclude=[np.number]).columns\n",
        "\n",
        "        # Fit imputer for numeric and categorical columns\n",
        "        self.num_imputer.fit(X[num_cols])\n",
        "        self.cat_imputer.fit(X[cat_cols])\n",
        "\n",
        "        return self\n",
        "\n",
        "    def transform(self, X):\n",
        "        \"\"\"\n",
        "        Transforms the input data X by imputing missing values.\n",
        "        \"\"\"\n",
        "        # Separate numeric and categorical columns\n",
        "        num_cols = X.select_dtypes(include=[np.number]).columns\n",
        "        cat_cols = X.select_dtypes(exclude=[np.number]).columns\n",
        "\n",
        "        # Impute missing values for numeric and categorical columns separately\n",
        "        X[num_cols] = self.num_imputer.transform(X[num_cols])\n",
        "        X[cat_cols] = self.cat_imputer.transform(X[cat_cols])\n",
        "\n",
        "        return X\n",
        "\n",
        "    def fit_transform(self, X, y=None):\n",
        "        \"\"\"\n",
        "        Fits the imputer and transforms the input data in a single step.\n",
        "        \"\"\"\n",
        "        # Separate numeric and categorical columns\n",
        "        num_cols = X.select_dtypes(include=[np.number]).columns\n",
        "        cat_cols = X.select_dtypes(exclude=[np.number]).columns\n",
        "\n",
        "        # Fit and transform numeric and categorical columns separately\n",
        "        X[num_cols] = self.num_imputer.fit_transform(X[num_cols])\n",
        "        X[cat_cols] = self.cat_imputer.fit_transform(X[cat_cols])\n",
        "\n",
        "        return X"
      ],
      "metadata": {
        "id": "OuLBaKzAYPgt"
      },
      "execution_count": null,
      "outputs": []
    },
    {
      "cell_type": "code",
      "source": [
        "#2. Feature Encoder\n",
        "\n",
        "class FeatureEncoder(BaseEstimator, TransformerMixin):\n",
        "    def __init__(self):\n",
        "        self.label_mappings = {}\n",
        "        self.categorical_columns = None\n",
        "\n",
        "    def fit(self, X, y=None):\n",
        "        # Make a copy to avoid modifying original\n",
        "        X = X.copy()\n",
        "\n",
        "        # Identify categorical columns (object dtype)\n",
        "        self.categorical_columns = X.select_dtypes(include=['object']).columns\n",
        "\n",
        "        # Create label mappings for each categorical column\n",
        "        for column in self.categorical_columns:\n",
        "            unique_values = X[column].unique()\n",
        "            self.label_mappings[column] = {\n",
        "                value: index for index, value in enumerate(unique_values)\n",
        "            }\n",
        "\n",
        "        return self\n",
        "\n",
        "    def transform(self, X):\n",
        "        # Make a copy to avoid modifying original\n",
        "        X_encoded = X.copy()\n",
        "\n",
        "        # Transform each categorical column\n",
        "        for column in self.categorical_columns:\n",
        "            # Handle new categories in test data\n",
        "            X_encoded[column] = X_encoded[column].map(self.label_mappings[column]).fillna(-1)\n",
        "\n",
        "            # Convert to int type\n",
        "            X_encoded[column] = X_encoded[column].astype(int)\n",
        "\n",
        "        return X_encoded\n"
      ],
      "metadata": {
        "id": "NgX6C4cUctyP"
      },
      "execution_count": null,
      "outputs": []
    },
    {
      "cell_type": "code",
      "source": [
        "class FeatureScaler(BaseEstimator, TransformerMixin):\n",
        "    def __init__(self, scaler_type='standard'):\n",
        "        \"\"\"\n",
        "        Custom feature scaler to scale data using different scaling techniques.\n",
        "\n",
        "        Parameters:\n",
        "        - scaler_type: str, default='standard'\n",
        "            The scaling technique to use. Options are 'standard', 'minmax', 'robust'.\n",
        "        \"\"\"\n",
        "        self.scaler_type = scaler_type\n",
        "\n",
        "        # Choose the appropriate scaler based on the input type\n",
        "        if self.scaler_type == 'standard':\n",
        "            self.scaler = StandardScaler()\n",
        "        elif self.scaler_type == 'minmax':\n",
        "            self.scaler = MinMaxScaler()\n",
        "        elif self.scaler_type == 'robust':\n",
        "            self.scaler = RobustScaler()\n",
        "        else:\n",
        "            raise ValueError(\"Invalid scaler_type. Choose from ['standard', 'minmax', 'robust']\")\n",
        "\n",
        "    def fit(self, X, y=None):\n",
        "        \"\"\"\n",
        "        Fits the scaler on the input data X.\n",
        "        \"\"\"\n",
        "        # Separate numeric columns from categorical columns\n",
        "        self.num_cols = X.select_dtypes(include=[np.number]).columns\n",
        "        # Apply the scaler only to the numeric columns\n",
        "        self.scaler.fit(X[self.num_cols])\n",
        "        return self\n",
        "\n",
        "    def transform(self, X):\n",
        "        \"\"\"\n",
        "        Transforms the input data X by scaling the features.\n",
        "        \"\"\"\n",
        "        # Apply scaling only to the numeric columns\n",
        "        X_scaled = X.copy()\n",
        "        X_scaled[self.num_cols] = self.scaler.transform(X[self.num_cols])\n",
        "        return X_scaled\n",
        "\n",
        "    def fit_transform(self, X, y=None):\n",
        "        \"\"\"\n",
        "        Fits the scaler and transforms the input data in a single step.\n",
        "        \"\"\"\n",
        "        # Separate numeric columns from categorical columns\n",
        "        self.num_cols = X.select_dtypes(include=[np.number]).columns\n",
        "        # Apply scaling only to the numeric columns\n",
        "        X_scaled = X.copy()\n",
        "        X_scaled[self.num_cols] = self.scaler.fit_transform(X[self.num_cols])\n",
        "        return X_scaled"
      ],
      "metadata": {
        "id": "oPiKEhOHZfFp"
      },
      "execution_count": null,
      "outputs": []
    },
    {
      "cell_type": "code",
      "source": [
        "#4 Dimensionality Reduction\n",
        "class NetworkDimensionalityReducer(BaseEstimator, TransformerMixin):\n",
        "    def __init__(self, n_components=5):\n",
        "        self.n_components = n_components\n",
        "        self.scaler = StandardScaler()\n",
        "        self.pca = PCA(n_components=n_components)\n",
        "        self.feature_names_ = None\n",
        "\n",
        "    def fit(self, X, y=None):\n",
        "        \"\"\"Learn PCA parameters from training data\"\"\"\n",
        "        self.feature_names_ = X.select_dtypes(include=['float64', 'int64']).columns\n",
        "        X_numeric = X[self.feature_names_]\n",
        "        X_scaled = self.scaler.fit_transform(X_numeric)\n",
        "        self.pca.fit(X_scaled)\n",
        "        return self\n",
        "\n",
        "    def transform(self, X):\n",
        "        \"\"\"Apply PCA transformation\"\"\"\n",
        "        X_numeric = X[self.feature_names_]\n",
        "        X_scaled = self.scaler.transform(X_numeric)\n",
        "        X_pca = self.pca.transform(X_scaled)\n",
        "        return pd.DataFrame(\n",
        "            X_pca,\n",
        "            columns=[f'PC{i+1}' for i in range(self.n_components)],\n",
        "            index=X.index\n",
        "        )"
      ],
      "metadata": {
        "id": "iYjIpqtncfIQ"
      },
      "execution_count": null,
      "outputs": []
    },
    {
      "cell_type": "code",
      "source": [
        "# from sklearn.pipeline import Pipeline\n",
        "\n",
        "# # Note: You can add or delete preprocessing components from this pipeline\n",
        "\n",
        "pipe = Pipeline([(\"imputer\", FeatureImputer(num_strategy='mean', cat_strategy='most_frequent')),\n",
        "                 (\"encoder\", FeatureEncoder()),\n",
        "                 (\"scaler\", FeatureScaler(scaler_type='standard')),\n",
        "                 (\"dimensionality\", NetworkDimensionalityReducer(n_components=5))\n",
        "                ])\n",
        "\n",
        "train_set_clean = pipe.fit_transform(train_df_clean)\n",
        "val_set_clean = pipe.transform(val_set)"
      ],
      "metadata": {
        "id": "jHraoW_7LfHd"
      },
      "execution_count": null,
      "outputs": []
    },
    {
      "cell_type": "code",
      "source": [
        "# # Your code should work up until this point\n",
        "# train_set = pipe.fit_transform(train_set)\n",
        "# val_set = pipe.transform(val_set)"
      ],
      "metadata": {
        "id": "9s56aFFxLfHd"
      },
      "execution_count": null,
      "outputs": []
    },
    {
      "cell_type": "markdown",
      "source": [
        "or create your own here"
      ],
      "metadata": {
        "id": "SXoCqMztjhr-"
      }
    },
    {
      "cell_type": "code",
      "source": [
        "# Write your code here"
      ],
      "metadata": {
        "id": "7OoZ3oXEj2CW"
      },
      "execution_count": null,
      "outputs": []
    },
    {
      "cell_type": "markdown",
      "source": [
        "# 4. Modeling and Validation\n",
        "\n",
        "Modelling is the process of building your own machine learning models to solve specific problems, or in this assignment context, predicting the probability for each class in the `Status` feature (`Status_C`, `Status_CL`, `Status_D`). Validation is the process of evaluating your trained model using the validation set or cross-validation method and providing some metrics that can help you decide what to do in the next iteration of development."
      ],
      "metadata": {
        "id": "9A3adbZXLfHe"
      }
    },
    {
      "cell_type": "markdown",
      "source": [
        "## KNN"
      ],
      "metadata": {
        "id": "ZnhMNbBILfHf"
      }
    },
    {
      "cell_type": "code",
      "source": [
        "# Type your code here\n",
        "\n",
        "reducer = NetworkDimensionalityReducer(n_components=20)\n",
        "X_train_reduced = reducer.fit_transform(train_set_clean)\n",
        "X_val_reduced = reducer.transform(val_set_clean)\n",
        "\n",
        "X_train = X_train_reduced.values\n",
        "y_train = train_set_clean['attack_cat'].values\n",
        "X_val = X_val_reduced.values\n",
        "y_val = val_set_clean['attack_cat'].values\n",
        "\n",
        "# Create and train sklearn's KNN\n",
        "knn = KNeighborsClassifier(n_neighbors=5)\n",
        "knn.fit(X_train, y_train)\n",
        "\n",
        "# Make predictions\n",
        "y_pred = knn.predict(X_val)\n",
        "\n",
        "# Print performance metrics\n",
        "print(\"Sklearn KNN Performance:\")\n",
        "print(f\"Accuracy: {accuracy_score(y_val, y_pred):.4f}\")\n",
        "print(\"\\nDetailed Classification Report:\")\n",
        "print(classification_report(y_val, y_pred))\n",
        "\n",
        "# Plot confusion matrix\n",
        "plt.figure(figsize=(12, 8))\n",
        "sns.heatmap(confusion_matrix(y_val, y_pred),\n",
        "            annot=True,\n",
        "            fmt='d',\n",
        "            xticklabels=knn.classes_,\n",
        "            yticklabels=knn.classes_)\n",
        "plt.title('Confusion Matrix - Sklearn KNN')\n",
        "plt.xlabel('Predicted')\n",
        "plt.ylabel('True')\n",
        "plt.xticks(rotation=45)\n",
        "plt.tight_layout()\n",
        "plt.show()"
      ],
      "metadata": {
        "id": "KV6ICmFmlqjk"
      },
      "execution_count": null,
      "outputs": []
    },
    {
      "cell_type": "markdown",
      "source": [
        "## Naive Bayes"
      ],
      "metadata": {
        "id": "nW0bMzkDLfHf"
      }
    },
    {
      "cell_type": "code",
      "source": [
        "# Type your code here"
      ],
      "metadata": {
        "id": "C_XwsN_-LfHg"
      },
      "execution_count": null,
      "outputs": []
    },
    {
      "cell_type": "markdown",
      "source": [
        "## ID3"
      ],
      "metadata": {
        "id": "TLDtIkPdLfHg"
      }
    },
    {
      "cell_type": "code",
      "source": [
        "# Type your code here"
      ],
      "metadata": {
        "id": "gZ6_x1LKLfHh"
      },
      "execution_count": null,
      "outputs": []
    },
    {
      "cell_type": "markdown",
      "source": [
        "## SVM"
      ],
      "metadata": {
        "id": "iP4TQDeRUUE0"
      }
    },
    {
      "cell_type": "code",
      "source": [
        "# Type your code here\n",
        "reducer = NetworkDimensionalityReducer(n_components=20)\n",
        "X_train_reduced = reducer.fit_transform(train_set_clean)\n",
        "X_val_reduced = reducer.transform(val_set_clean)\n",
        "\n",
        "X_train = X_train_reduced.values\n",
        "y_train = train_set_clean['attack_cat'].values\n",
        "X_val = X_val_reduced.values\n",
        "y_val = val_set_clean['attack_cat'].values\n",
        "\n",
        "# Create and train sklearn's SVM (Support Vector Machine)\n",
        "svm = SVC(kernel='rbf', C=1, gamma='scale', random_state=42)  # Using RBF kernel\n",
        "svm.fit(X_train, y_train)\n",
        "\n",
        "# Make predictions\n",
        "y_pred = svm.predict(X_val)\n",
        "\n",
        "# Print performance metrics\n",
        "print(\"Sklearn SVM Performance:\")\n",
        "print(f\"Accuracy: {accuracy_score(y_val, y_pred):.4f}\")\n",
        "print(\"\\nDetailed Classification Report:\")\n",
        "print(classification_report(y_val, y_pred))\n",
        "\n",
        "# Plot confusion matrix\n",
        "plt.figure(figsize=(12, 8))\n",
        "sns.heatmap(confusion_matrix(y_val, y_pred),\n",
        "            annot=True,\n",
        "            fmt='d',\n",
        "            xticklabels=svm.classes_,\n",
        "            yticklabels=svm.classes_)\n",
        "plt.title('Confusion Matrix - Sklearn SVM')\n",
        "plt.xlabel('Predicted')\n",
        "plt.ylabel('True')\n",
        "plt.xticks(rotation=45)\n",
        "plt.tight_layout()\n",
        "plt.show()"
      ],
      "metadata": {
        "id": "bIjExgsPUYmM"
      },
      "execution_count": null,
      "outputs": []
    },
    {
      "cell_type": "markdown",
      "source": [
        "## Logistic Regression"
      ],
      "metadata": {
        "id": "pg8aMBvoUWM-"
      }
    },
    {
      "cell_type": "code",
      "source": [
        "# Type your code here"
      ],
      "metadata": {
        "id": "0E70wbTkUV58"
      },
      "execution_count": null,
      "outputs": []
    },
    {
      "cell_type": "markdown",
      "source": [
        "## Notes for improvements\n",
        "\n",
        "- **Visualize the model evaluation result**\n",
        "\n",
        "This will help you to understand the details more clearly about your model's performance. From the visualization, you can see clearly if your model is leaning towards a class than the others. (Hint: confusion matrix, ROC-AUC curve, etc.)\n",
        "\n",
        "- **Explore the hyperparameters of your models**\n",
        "\n",
        "Each models have their own hyperparameters. And each of the hyperparameter have different effects on the model behaviour. You can optimize the model performance by finding the good set of hyperparameters through a process called **hyperparameter tuning**. (Hint: Grid search, random search, bayesian optimization)\n",
        "\n",
        "- **Cross-validation**\n",
        "\n",
        "Cross-validation is a critical technique in machine learning and data science for evaluating and validating the performance of predictive models. It provides a more **robust** and **reliable** evaluation method compared to a hold-out (single train-test set) validation. Though, it requires more time and computing power because of how cross-validation works. (Hint: k-fold cross-validation, stratified k-fold cross-validation, etc.)\n",
        "\n",
        "- **Ensemble methods**\n",
        "\n",
        "Ensemble methods are powerful machine learning techniques that combine the predictions of multiple models (often referred to as base learners or weak learners) to create a stronger, more accurate predictive model. The idea behind ensemble methods is that by aggregating the opinions of multiple models, you can reduce the impact of individual model errors and improve overall prediction performance. (Hint: bagging, boosting, stacking, voting)\n",
        "\n",
        "- **Model interpretation**\n",
        "\n",
        "Model interpretation is the process of understanding and explaining the inner workings of a machine learning model, particularly its decision-making process. Interpretation helps data scientists, stakeholders, and end-users gain insights into why a model makes certain predictions or classifications. Model interpretation is crucial for building trust in machine learning systems, identifying biases, and extracting actionable information from models. (Hint: Feature importance, PDP, SHAP Values, etc)\n",
        "\n",
        "- **Explore other models**\n",
        "\n",
        "There are a lot of ML models that you can use in this usecase. Try to explore and use them to solve this problem."
      ],
      "metadata": {
        "id": "LoH2u6fOLfHh"
      }
    },
    {
      "cell_type": "markdown",
      "source": [
        "## Submission\n",
        "To predict the test set target feature and submit the results to the kaggle competition platform, do the following:\n",
        "1. Create a new pipeline instance identical to the first in Data Preprocessing\n",
        "2. With the pipeline, apply `fit_transform` to the original training set before splitting, then only apply `transform` to the test set.\n",
        "3. Retrain the model on the preprocessed training set\n",
        "4. Predict the test set\n",
        "5. Make sure the submission contains the `id`, `Status_C`, `Status_CL`, `Status_D` column."
      ],
      "metadata": {
        "id": "Li4l53DjLfHh"
      }
    },
    {
      "cell_type": "code",
      "source": [
        "# Type your code here"
      ],
      "metadata": {
        "id": "LeqnfWc-LfHi"
      },
      "execution_count": null,
      "outputs": []
    },
    {
      "cell_type": "markdown",
      "source": [
        "# 6. Error Analysis\n",
        "\n",
        "Based on all the process you have done until the modeling and evaluation step, write an analysis to support each steps you have taken to solve this problem. Write the analysis using the markdown block. Some questions that may help you in writing the analysis:\n",
        "\n",
        "- Does my model perform better in predicting one class than the other? If so, why is that?\n",
        "- To each models I have tried, which performs the best and what could be the reason?\n",
        "- Is it better for me to impute or drop the missing data? Why?\n",
        "- Does feature scaling help improve my model performance?\n",
        "- etc..."
      ],
      "metadata": {
        "id": "R-jXvKOpLfHi"
      }
    },
    {
      "cell_type": "markdown",
      "source": [
        "`Provide your analysis here`"
      ],
      "metadata": {
        "id": "tWL3nEAELfHj"
      }
    }
  ]
}